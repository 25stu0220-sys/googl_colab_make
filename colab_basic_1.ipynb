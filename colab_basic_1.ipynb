{
  "nbformat": 4,
  "nbformat_minor": 0,
  "metadata": {
    "colab": {
      "provenance": [],
      "gpuType": "T4",
      "authorship_tag": "ABX9TyMOQhf66ZAI+r4Ubpqq9eH1",
      "include_colab_link": true
    },
    "kernelspec": {
      "name": "python3",
      "display_name": "Python 3"
    },
    "language_info": {
      "name": "python"
    },
    "accelerator": "GPU"
  },
  "cells": [
    {
      "cell_type": "markdown",
      "metadata": {
        "id": "view-in-github",
        "colab_type": "text"
      },
      "source": [
        "<a href=\"https://colab.research.google.com/github/25stu0220-sys/googl_colab_make/blob/main/colab_basic_1.ipynb\" target=\"_parent\"><img src=\"https://colab.research.google.com/assets/colab-badge.svg\" alt=\"Open In Colab\"/></a>"
      ]
    },
    {
      "cell_type": "code",
      "source": [
        "# 학생 수\n",
        "num_students = 5\n",
        "\n",
        "# 학생 데이터 저장용 리스트\n",
        "students = []\n",
        "\n",
        "# 각 과목 총합 저장용 변수\n",
        "total_korean = 0\n",
        "total_math = 0\n",
        "total_science = 0\n",
        "\n",
        "print(\"학생 5명의 이름과 국어, 수학, 과학 점수를 입력하세요.\")\n",
        "\n",
        "for i in range(num_students):\n",
        "    name = input(f\"{i+1}번째 학생 이름: \")\n",
        "    korean = int(input(\"  국어 점수: \"))\n",
        "    math = int(input(\"  수학 점수: \"))\n",
        "    science = int(input(\"  과학 점수: \"))\n",
        "\n",
        "    total = korean + math + science\n",
        "    average = total / 3\n",
        "\n",
        "    # 학생 데이터 추가\n",
        "    students.append({\n",
        "        '이름': name,\n",
        "        '국어': korean,\n",
        "        '수학': math,\n",
        "        '과학': science,\n",
        "        '합계': total,\n",
        "        '평균': average\n",
        "    })\n",
        "\n",
        "    # 과목별 총합 누적\n",
        "    total_korean += korean\n",
        "    total_math += math\n",
        "    total_science += science\n",
        "\n",
        "# 전체 과목별 평균 계산\n",
        "avg_korean = total_korean / num_students\n",
        "avg_math = total_math / num_students\n",
        "avg_science = total_science / num_students\n",
        "\n",
        "print(\"\\n학생별 성적 결과:\")\n",
        "print(\"이름\\t국어\\t수학\\t과학\\t합계\\t평균\")\n",
        "for s in students:\n",
        "    print(f\"{s['이름']}\\t{s['국어']}\\t{s['수학']}\\t{s['과학']}\\t{s['합계']}\\t{s['평균']:.2f}\")\n",
        "\n",
        "print(\"\\n전체 과목별 평균 점수:\")\n",
        "print(f\"국어 평균: {avg_korean:.2f}\")\n",
        "print(f\"수학 평균: {avg_math:.2f}\")\n",
        "print(f\"과학 평균: {avg_science:.2f}\")\n"
      ],
      "metadata": {
        "colab": {
          "base_uri": "https://localhost:8080/"
        },
        "id": "aZjBAjYHk-8_",
        "outputId": "1125e2ef-07a3-41dc-a719-e20daa04d0ce"
      },
      "execution_count": 3,
      "outputs": [
        {
          "output_type": "stream",
          "name": "stdout",
          "text": [
            "학생 5명의 이름과 국어, 수학, 과학 점수를 입력하세요.\n",
            "1번째 학생 이름: son\n",
            "  국어 점수: 99\n",
            "  수학 점수: 88\n",
            "  과학 점수: 77\n",
            "2번째 학생 이름: kane\n",
            "  국어 점수: 80\n",
            "  수학 점수: 90\n",
            "  과학 점수: 71\n",
            "3번째 학생 이름: ali\n",
            "  국어 점수: 67\n",
            "  수학 점수: 78\n",
            "  과학 점수: 89\n",
            "4번째 학생 이름: eriksen\n",
            "  국어 점수: 45\n",
            "  수학 점수: 56\n",
            "  과학 점수: 77\n",
            "5번째 학생 이름: dier\n",
            "  국어 점수: 34\n",
            "  수학 점수: 54\n",
            "  과학 점수: 55\n",
            "\n",
            "학생별 성적 결과:\n",
            "이름\t국어\t수학\t과학\t합계\t평균\n",
            "son\t99\t88\t77\t264\t88.00\n",
            "kane\t80\t90\t71\t241\t80.33\n",
            "ali\t67\t78\t89\t234\t78.00\n",
            "eriksen\t45\t56\t77\t178\t59.33\n",
            "dier\t34\t54\t55\t143\t47.67\n",
            "\n",
            "전체 과목별 평균 점수:\n",
            "국어 평균: 65.00\n",
            "수학 평균: 73.20\n",
            "과학 평균: 73.80\n"
          ]
        }
      ]
    }
  ]
}